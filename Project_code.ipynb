{
 "cells": [
  {
   "cell_type": "code",
   "execution_count": 21,
   "metadata": {},
   "outputs": [],
   "source": [
    "# package used in this project\n",
    "import pandas as pd\n",
    "from sklearn.linear_model import LogisticRegression\n",
    "from sklearn import metrics\n",
    "from sklearn.model_selection import train_test_split\n",
    "import numpy as np\n",
    "from sklearn.metrics import confusion_matrix\n",
    "from sklearn.naive_bayes import GaussianNB\n",
    "from sklearn.neighbors import KNeighborsClassifier\n",
    "from sklearn.svm import SVC\n",
    "from sklearn.model_selection import GridSearchCV\n",
    "from sklearn.ensemble import AdaBoostClassifier\n",
    "from imblearn.ensemble import RUSBoostClassifier\n",
    "from sklearn.metrics import ndcg_score\n",
    "from sklearn.metrics import roc_auc_score\n",
    "import matplotlib.pyplot as plt\n",
    "from imblearn.over_sampling import SMOTE\n",
    "from sklearn.ensemble import RandomForestClassifier"
   ]
  },
  {
   "cell_type": "code",
   "execution_count": 3,
   "metadata": {},
   "outputs": [
    {
     "data": {
      "text/html": [
       "<div>\n",
       "<style scoped>\n",
       "    .dataframe tbody tr th:only-of-type {\n",
       "        vertical-align: middle;\n",
       "    }\n",
       "\n",
       "    .dataframe tbody tr th {\n",
       "        vertical-align: top;\n",
       "    }\n",
       "\n",
       "    .dataframe thead th {\n",
       "        text-align: right;\n",
       "    }\n",
       "</style>\n",
       "<table border=\"1\" class=\"dataframe\">\n",
       "  <thead>\n",
       "    <tr style=\"text-align: right;\">\n",
       "      <th></th>\n",
       "      <th>fyear</th>\n",
       "      <th>gvkey</th>\n",
       "      <th>sich</th>\n",
       "      <th>insbnk</th>\n",
       "      <th>understatement</th>\n",
       "      <th>option</th>\n",
       "      <th>misstate</th>\n",
       "      <th>act</th>\n",
       "      <th>ap</th>\n",
       "      <th>at</th>\n",
       "      <th>...</th>\n",
       "      <th>soft_assets</th>\n",
       "      <th>ch_cs</th>\n",
       "      <th>ch_cm</th>\n",
       "      <th>ch_roa</th>\n",
       "      <th>issue</th>\n",
       "      <th>bm</th>\n",
       "      <th>dpi</th>\n",
       "      <th>reoa</th>\n",
       "      <th>EBIT</th>\n",
       "      <th>ch_fcf</th>\n",
       "    </tr>\n",
       "  </thead>\n",
       "  <tbody>\n",
       "    <tr>\n",
       "      <td>0</td>\n",
       "      <td>1990</td>\n",
       "      <td>1009</td>\n",
       "      <td>3460.0</td>\n",
       "      <td>0</td>\n",
       "      <td>0</td>\n",
       "      <td>0</td>\n",
       "      <td>0</td>\n",
       "      <td>10.047</td>\n",
       "      <td>3.736</td>\n",
       "      <td>32.335</td>\n",
       "      <td>...</td>\n",
       "      <td>0.312448</td>\n",
       "      <td>0.095082</td>\n",
       "      <td>0.082631</td>\n",
       "      <td>-0.019761</td>\n",
       "      <td>1</td>\n",
       "      <td>0.413170</td>\n",
       "      <td>0.873555</td>\n",
       "      <td>0.167620</td>\n",
       "      <td>0.161961</td>\n",
       "      <td>-0.042140</td>\n",
       "    </tr>\n",
       "    <tr>\n",
       "      <td>1</td>\n",
       "      <td>1990</td>\n",
       "      <td>1011</td>\n",
       "      <td>4841.0</td>\n",
       "      <td>0</td>\n",
       "      <td>0</td>\n",
       "      <td>0</td>\n",
       "      <td>0</td>\n",
       "      <td>1.247</td>\n",
       "      <td>0.803</td>\n",
       "      <td>7.784</td>\n",
       "      <td>...</td>\n",
       "      <td>0.315904</td>\n",
       "      <td>0.188832</td>\n",
       "      <td>-0.211389</td>\n",
       "      <td>-0.117832</td>\n",
       "      <td>1</td>\n",
       "      <td>0.157887</td>\n",
       "      <td>0.745139</td>\n",
       "      <td>-0.428957</td>\n",
       "      <td>-0.157888</td>\n",
       "      <td>0.100228</td>\n",
       "    </tr>\n",
       "    <tr>\n",
       "      <td>2</td>\n",
       "      <td>1990</td>\n",
       "      <td>1017</td>\n",
       "      <td>3812.0</td>\n",
       "      <td>0</td>\n",
       "      <td>0</td>\n",
       "      <td>0</td>\n",
       "      <td>0</td>\n",
       "      <td>55.040</td>\n",
       "      <td>3.601</td>\n",
       "      <td>118.120</td>\n",
       "      <td>...</td>\n",
       "      <td>0.605342</td>\n",
       "      <td>0.097551</td>\n",
       "      <td>-0.105780</td>\n",
       "      <td>0.091206</td>\n",
       "      <td>1</td>\n",
       "      <td>2.231337</td>\n",
       "      <td>1.015131</td>\n",
       "      <td>0.394768</td>\n",
       "      <td>0.063681</td>\n",
       "      <td>0.066348</td>\n",
       "    </tr>\n",
       "    <tr>\n",
       "      <td>3</td>\n",
       "      <td>1990</td>\n",
       "      <td>1021</td>\n",
       "      <td>3861.0</td>\n",
       "      <td>0</td>\n",
       "      <td>0</td>\n",
       "      <td>0</td>\n",
       "      <td>0</td>\n",
       "      <td>24.684</td>\n",
       "      <td>3.948</td>\n",
       "      <td>34.591</td>\n",
       "      <td>...</td>\n",
       "      <td>0.793068</td>\n",
       "      <td>-0.005725</td>\n",
       "      <td>-0.249704</td>\n",
       "      <td>0.017545</td>\n",
       "      <td>1</td>\n",
       "      <td>1.043582</td>\n",
       "      <td>1.026261</td>\n",
       "      <td>0.094822</td>\n",
       "      <td>0.088347</td>\n",
       "      <td>-0.017358</td>\n",
       "    </tr>\n",
       "    <tr>\n",
       "      <td>4</td>\n",
       "      <td>1990</td>\n",
       "      <td>1028</td>\n",
       "      <td>7385.0</td>\n",
       "      <td>0</td>\n",
       "      <td>0</td>\n",
       "      <td>0</td>\n",
       "      <td>0</td>\n",
       "      <td>17.325</td>\n",
       "      <td>3.520</td>\n",
       "      <td>27.542</td>\n",
       "      <td>...</td>\n",
       "      <td>0.869182</td>\n",
       "      <td>-0.231536</td>\n",
       "      <td>-1.674893</td>\n",
       "      <td>-0.466667</td>\n",
       "      <td>0</td>\n",
       "      <td>-1.602508</td>\n",
       "      <td>0.598443</td>\n",
       "      <td>-0.942379</td>\n",
       "      <td>-0.700821</td>\n",
       "      <td>0.130349</td>\n",
       "    </tr>\n",
       "    <tr>\n",
       "      <td>...</td>\n",
       "      <td>...</td>\n",
       "      <td>...</td>\n",
       "      <td>...</td>\n",
       "      <td>...</td>\n",
       "      <td>...</td>\n",
       "      <td>...</td>\n",
       "      <td>...</td>\n",
       "      <td>...</td>\n",
       "      <td>...</td>\n",
       "      <td>...</td>\n",
       "      <td>...</td>\n",
       "      <td>...</td>\n",
       "      <td>...</td>\n",
       "      <td>...</td>\n",
       "      <td>...</td>\n",
       "      <td>...</td>\n",
       "      <td>...</td>\n",
       "      <td>...</td>\n",
       "      <td>...</td>\n",
       "      <td>...</td>\n",
       "      <td>...</td>\n",
       "    </tr>\n",
       "    <tr>\n",
       "      <td>146040</td>\n",
       "      <td>2014</td>\n",
       "      <td>314866</td>\n",
       "      <td>8200.0</td>\n",
       "      <td>0</td>\n",
       "      <td>0</td>\n",
       "      <td>0</td>\n",
       "      <td>0</td>\n",
       "      <td>262.600</td>\n",
       "      <td>12.400</td>\n",
       "      <td>1234.800</td>\n",
       "      <td>...</td>\n",
       "      <td>0.751944</td>\n",
       "      <td>0.560406</td>\n",
       "      <td>0.127217</td>\n",
       "      <td>-0.050591</td>\n",
       "      <td>1</td>\n",
       "      <td>0.103693</td>\n",
       "      <td>0.829680</td>\n",
       "      <td>-0.327178</td>\n",
       "      <td>-0.008179</td>\n",
       "      <td>-0.261606</td>\n",
       "    </tr>\n",
       "    <tr>\n",
       "      <td>146041</td>\n",
       "      <td>2014</td>\n",
       "      <td>315318</td>\n",
       "      <td>2890.0</td>\n",
       "      <td>0</td>\n",
       "      <td>0</td>\n",
       "      <td>0</td>\n",
       "      <td>0</td>\n",
       "      <td>1578.400</td>\n",
       "      <td>106.700</td>\n",
       "      <td>4557.600</td>\n",
       "      <td>...</td>\n",
       "      <td>0.742781</td>\n",
       "      <td>-0.118178</td>\n",
       "      <td>0.031360</td>\n",
       "      <td>0.095355</td>\n",
       "      <td>1</td>\n",
       "      <td>0.581796</td>\n",
       "      <td>0.743084</td>\n",
       "      <td>-0.077826</td>\n",
       "      <td>0.000461</td>\n",
       "      <td>-0.296702</td>\n",
       "    </tr>\n",
       "    <tr>\n",
       "      <td>146042</td>\n",
       "      <td>2014</td>\n",
       "      <td>316056</td>\n",
       "      <td>3420.0</td>\n",
       "      <td>0</td>\n",
       "      <td>0</td>\n",
       "      <td>0</td>\n",
       "      <td>0</td>\n",
       "      <td>973.800</td>\n",
       "      <td>249.500</td>\n",
       "      <td>2015.900</td>\n",
       "      <td>...</td>\n",
       "      <td>0.751129</td>\n",
       "      <td>0.004207</td>\n",
       "      <td>-0.037925</td>\n",
       "      <td>0.072050</td>\n",
       "      <td>1</td>\n",
       "      <td>-0.000903</td>\n",
       "      <td>1.063878</td>\n",
       "      <td>-0.002877</td>\n",
       "      <td>0.153133</td>\n",
       "      <td>0.065569</td>\n",
       "    </tr>\n",
       "    <tr>\n",
       "      <td>146043</td>\n",
       "      <td>2014</td>\n",
       "      <td>317260</td>\n",
       "      <td>4412.0</td>\n",
       "      <td>0</td>\n",
       "      <td>0</td>\n",
       "      <td>0</td>\n",
       "      <td>0</td>\n",
       "      <td>51.743</td>\n",
       "      <td>1.555</td>\n",
       "      <td>322.421</td>\n",
       "      <td>...</td>\n",
       "      <td>0.018001</td>\n",
       "      <td>0.000000</td>\n",
       "      <td>0.000000</td>\n",
       "      <td>0.000000</td>\n",
       "      <td>1</td>\n",
       "      <td>1.109467</td>\n",
       "      <td>0.000000</td>\n",
       "      <td>0.000000</td>\n",
       "      <td>0.028804</td>\n",
       "      <td>0.000000</td>\n",
       "    </tr>\n",
       "    <tr>\n",
       "      <td>146044</td>\n",
       "      <td>2014</td>\n",
       "      <td>317264</td>\n",
       "      <td>4412.0</td>\n",
       "      <td>0</td>\n",
       "      <td>0</td>\n",
       "      <td>0</td>\n",
       "      <td>0</td>\n",
       "      <td>233.211</td>\n",
       "      <td>5.224</td>\n",
       "      <td>1099.101</td>\n",
       "      <td>...</td>\n",
       "      <td>0.068841</td>\n",
       "      <td>1.684618</td>\n",
       "      <td>-0.094348</td>\n",
       "      <td>0.020573</td>\n",
       "      <td>1</td>\n",
       "      <td>1.154308</td>\n",
       "      <td>0.745399</td>\n",
       "      <td>0.025562</td>\n",
       "      <td>0.026433</td>\n",
       "      <td>-0.240183</td>\n",
       "    </tr>\n",
       "  </tbody>\n",
       "</table>\n",
       "<p>146045 rows × 49 columns</p>\n",
       "</div>"
      ],
      "text/plain": [
       "        fyear   gvkey    sich  insbnk  understatement  option  misstate  \\\n",
       "0        1990    1009  3460.0       0               0       0         0   \n",
       "1        1990    1011  4841.0       0               0       0         0   \n",
       "2        1990    1017  3812.0       0               0       0         0   \n",
       "3        1990    1021  3861.0       0               0       0         0   \n",
       "4        1990    1028  7385.0       0               0       0         0   \n",
       "...       ...     ...     ...     ...             ...     ...       ...   \n",
       "146040   2014  314866  8200.0       0               0       0         0   \n",
       "146041   2014  315318  2890.0       0               0       0         0   \n",
       "146042   2014  316056  3420.0       0               0       0         0   \n",
       "146043   2014  317260  4412.0       0               0       0         0   \n",
       "146044   2014  317264  4412.0       0               0       0         0   \n",
       "\n",
       "             act       ap        at  ...  soft_assets     ch_cs     ch_cm  \\\n",
       "0         10.047    3.736    32.335  ...     0.312448  0.095082  0.082631   \n",
       "1          1.247    0.803     7.784  ...     0.315904  0.188832 -0.211389   \n",
       "2         55.040    3.601   118.120  ...     0.605342  0.097551 -0.105780   \n",
       "3         24.684    3.948    34.591  ...     0.793068 -0.005725 -0.249704   \n",
       "4         17.325    3.520    27.542  ...     0.869182 -0.231536 -1.674893   \n",
       "...          ...      ...       ...  ...          ...       ...       ...   \n",
       "146040   262.600   12.400  1234.800  ...     0.751944  0.560406  0.127217   \n",
       "146041  1578.400  106.700  4557.600  ...     0.742781 -0.118178  0.031360   \n",
       "146042   973.800  249.500  2015.900  ...     0.751129  0.004207 -0.037925   \n",
       "146043    51.743    1.555   322.421  ...     0.018001  0.000000  0.000000   \n",
       "146044   233.211    5.224  1099.101  ...     0.068841  1.684618 -0.094348   \n",
       "\n",
       "          ch_roa  issue        bm       dpi      reoa      EBIT    ch_fcf  \n",
       "0      -0.019761      1  0.413170  0.873555  0.167620  0.161961 -0.042140  \n",
       "1      -0.117832      1  0.157887  0.745139 -0.428957 -0.157888  0.100228  \n",
       "2       0.091206      1  2.231337  1.015131  0.394768  0.063681  0.066348  \n",
       "3       0.017545      1  1.043582  1.026261  0.094822  0.088347 -0.017358  \n",
       "4      -0.466667      0 -1.602508  0.598443 -0.942379 -0.700821  0.130349  \n",
       "...          ...    ...       ...       ...       ...       ...       ...  \n",
       "146040 -0.050591      1  0.103693  0.829680 -0.327178 -0.008179 -0.261606  \n",
       "146041  0.095355      1  0.581796  0.743084 -0.077826  0.000461 -0.296702  \n",
       "146042  0.072050      1 -0.000903  1.063878 -0.002877  0.153133  0.065569  \n",
       "146043  0.000000      1  1.109467  0.000000  0.000000  0.028804  0.000000  \n",
       "146044  0.020573      1  1.154308  0.745399  0.025562  0.026433 -0.240183  \n",
       "\n",
       "[146045 rows x 49 columns]"
      ]
     },
     "execution_count": 3,
     "metadata": {},
     "output_type": "execute_result"
    }
   ],
   "source": [
    "data = pd.read_csv(\"uscecchini28.csv\")\n",
    "data = data.drop(columns=['p_aaer', 'new_p_aaer']) # drop two columns\n",
    "data.fillna(0, inplace=True)  # fill missing value with 0\n",
    "data"
   ]
  },
  {
   "cell_type": "code",
   "execution_count": 4,
   "metadata": {},
   "outputs": [
    {
     "data": {
      "text/plain": [
       "0"
      ]
     },
     "execution_count": 4,
     "metadata": {},
     "output_type": "execute_result"
    }
   ],
   "source": [
    "data.isnull().sum().sum()  # the number of missing value in the dataset"
   ]
  },
  {
   "cell_type": "code",
   "execution_count": 5,
   "metadata": {},
   "outputs": [
    {
     "data": {
      "text/plain": [
       "misstate\n",
       "0    145081\n",
       "1       964\n",
       "Name: misstate, dtype: int64"
      ]
     },
     "execution_count": 5,
     "metadata": {},
     "output_type": "execute_result"
    }
   ],
   "source": [
    "data.groupby('misstate')['misstate'].count()  # 0: accounting fraud. The number of fraud vs nonfraud"
   ]
  },
  {
   "cell_type": "code",
   "execution_count": 6,
   "metadata": {},
   "outputs": [],
   "source": [
    "features = data.iloc[:, 7:]   #7:35: raw numbers\n",
    "labels = data.iloc[:, 6]"
   ]
  },
  {
   "cell_type": "code",
   "execution_count": 40,
   "metadata": {},
   "outputs": [],
   "source": [
    "#np.random.seed(68)\n",
    "X_train, X_test, y_train, y_test = train_test_split(features, labels, test_size=0.2,shuffle=True)"
   ]
  },
  {
   "cell_type": "code",
   "execution_count": 8,
   "metadata": {},
   "outputs": [
    {
     "name": "stdout",
     "output_type": "stream",
     "text": [
      "Logistic Regression Accuracy: 0.9925365469547057\n"
     ]
    },
    {
     "name": "stderr",
     "output_type": "stream",
     "text": [
      "/Users/wangjun/opt/anaconda3/lib/python3.7/site-packages/sklearn/linear_model/_logistic.py:764: ConvergenceWarning: lbfgs failed to converge (status=1):\n",
      "STOP: TOTAL NO. of ITERATIONS REACHED LIMIT.\n",
      "\n",
      "Increase the number of iterations (max_iter) or scale the data as shown in:\n",
      "    https://scikit-learn.org/stable/modules/preprocessing.html\n",
      "Please also refer to the documentation for alternative solver options:\n",
      "    https://scikit-learn.org/stable/modules/linear_model.html#logistic-regression\n",
      "  extra_warning_msg=_LOGISTIC_SOLVER_CONVERGENCE_MSG)\n"
     ]
    }
   ],
   "source": [
    "# Logistic Regression\n",
    "logi_L = LogisticRegression()\n",
    "logi_L.fit(X_train, y_train)\n",
    "y_pred = logi_L.predict(X_test)\n",
    "print(\"Logistic Regression Accuracy:\",metrics.accuracy_score(y_test, y_pred))"
   ]
  },
  {
   "cell_type": "code",
   "execution_count": 10,
   "metadata": {},
   "outputs": [
    {
     "name": "stdout",
     "output_type": "stream",
     "text": [
      "(28991, 23, 195, 0)\n",
      "0.49960363962225135\n"
     ]
    }
   ],
   "source": [
    "tn, fp, fn, tp = confusion_matrix(y_test, y_pred).ravel()  # confusion matrix of this prediction\n",
    "print((tn, fp, fn, tp))\n",
    "print(roc_auc_score(y_test, y_pred))"
   ]
  },
  {
   "cell_type": "code",
   "execution_count": 11,
   "metadata": {},
   "outputs": [
    {
     "name": "stdout",
     "output_type": "stream",
     "text": [
      "Naive Bayes Accuracy: 0.9658324489027355\n"
     ]
    }
   ],
   "source": [
    "#Naive Bayes\n",
    "GNB = GaussianNB()\n",
    "GNB.fit(X_train, y_train)\n",
    "y_pred = GNB.predict(X_test)\n",
    "print(\"Naive Bayes Accuracy:\",metrics.accuracy_score(y_test, y_pred))"
   ]
  },
  {
   "cell_type": "code",
   "execution_count": 12,
   "metadata": {},
   "outputs": [
    {
     "name": "stdout",
     "output_type": "stream",
     "text": [
      "(28189, 825, 173, 22)\n",
      "0.5421929819910105\n"
     ]
    }
   ],
   "source": [
    "tn, fp, fn, tp = confusion_matrix(y_test, y_pred).ravel()  # confusion matrix of this prediction\n",
    "print((tn, fp, fn, tp))\n",
    "print(roc_auc_score(y_test, y_pred))"
   ]
  },
  {
   "cell_type": "code",
   "execution_count": 13,
   "metadata": {},
   "outputs": [
    {
     "name": "stdout",
     "output_type": "stream",
     "text": [
      "KNN Accuracy: 0.993358211510151\n"
     ]
    }
   ],
   "source": [
    "# KNN\n",
    "KNN = KNeighborsClassifier()\n",
    "KNN.fit(X_train, y_train)\n",
    "y_pred = KNN.predict(X_test)\n",
    "print(\"KNN Accuracy:\",metrics.accuracy_score(y_test, y_pred))"
   ]
  },
  {
   "cell_type": "code",
   "execution_count": 14,
   "metadata": {},
   "outputs": [
    {
     "name": "stdout",
     "output_type": "stream",
     "text": [
      "(29003, 11, 183, 12)\n",
      "0.5305796671103076\n"
     ]
    }
   ],
   "source": [
    "tn, fp, fn, tp = confusion_matrix(y_test, y_pred).ravel()  # confusion matrix of this prediction\n",
    "print((tn, fp, fn, tp))\n",
    "print(roc_auc_score(y_test, y_pred))"
   ]
  },
  {
   "cell_type": "code",
   "execution_count": 15,
   "metadata": {},
   "outputs": [
    {
     "name": "stdout",
     "output_type": "stream",
     "text": [
      "Adaboost: 0.9933239754870075\n"
     ]
    }
   ],
   "source": [
    "# adaboost\n",
    "abc = AdaBoostClassifier(n_estimators=50,learning_rate=1)\n",
    "model = abc.fit(X_train, y_train)\n",
    "y_pred = model.predict(X_test)\n",
    "print(\"Adaboost:\",metrics.accuracy_score(y_test, y_pred))"
   ]
  },
  {
   "cell_type": "code",
   "execution_count": 16,
   "metadata": {},
   "outputs": [
    {
     "name": "stdout",
     "output_type": "stream",
     "text": [
      "(29014, 0, 195, 0)\n",
      "0.5\n"
     ]
    }
   ],
   "source": [
    "tn, fp, fn, tp = confusion_matrix(y_test, y_pred).ravel()  # confusion matrix of this prediction\n",
    "print((tn, fp, fn, tp))\n",
    "print(roc_auc_score(y_test, y_pred))"
   ]
  },
  {
   "cell_type": "code",
   "execution_count": 26,
   "metadata": {},
   "outputs": [
    {
     "name": "stdout",
     "output_type": "stream",
     "text": [
      "Random forest Accuracy: 0.9933239754870075\n",
      "0.5\n"
     ]
    }
   ],
   "source": [
    "# Random forest\n",
    "clf=RandomForestClassifier(n_estimators=100)\n",
    "clf.fit(X_train,y_train)\n",
    "y_pred=clf.predict(X_test)\n",
    "print(\"Random forest Accuracy:\",metrics.accuracy_score(y_test, y_pred))\n",
    "print(roc_auc_score(y_test, y_pred))"
   ]
  },
  {
   "cell_type": "code",
   "execution_count": 41,
   "metadata": {},
   "outputs": [
    {
     "data": {
      "text/plain": [
       "0.6905688862401599"
      ]
     },
     "execution_count": 41,
     "metadata": {},
     "output_type": "execute_result"
    }
   ],
   "source": [
    "# RUSBoost\n",
    "clf = RUSBoostClassifier(random_state=0)\n",
    "clf.fit(X_train, y_train)  \n",
    "y_pred = clf.predict(X_test)\n",
    "roc_auc_score(y_test, y_pred)"
   ]
  },
  {
   "cell_type": "code",
   "execution_count": 42,
   "metadata": {},
   "outputs": [
    {
     "name": "stdout",
     "output_type": "stream",
     "text": [
      "After OverSampling, the shape of train_X: (232148, 28)\n",
      "After OverSampling, the shape of train_y: (232148,) \n",
      "\n",
      "After OverSampling, counts of label '1': 116074\n",
      "After OverSampling, counts of label '0': 116074\n"
     ]
    }
   ],
   "source": [
    "# SMOTEBoost\n",
    "sm = SMOTE(random_state = 0) \n",
    "X_train_res, y_train_res = sm.fit_sample(X_train, y_train.ravel()) \n",
    "  \n",
    "print('After OverSampling, the shape of train_X: {}'.format(X_train_res.shape)) \n",
    "print('After OverSampling, the shape of train_y: {} \\n'.format(y_train_res.shape)) \n",
    "  \n",
    "print(\"After OverSampling, counts of label '1': {}\".format(sum(y_train_res == 1))) \n",
    "print(\"After OverSampling, counts of label '0': {}\".format(sum(y_train_res == 0)))"
   ]
  },
  {
   "cell_type": "code",
   "execution_count": 43,
   "metadata": {},
   "outputs": [
    {
     "data": {
      "text/plain": [
       "0.6903312344886366"
      ]
     },
     "execution_count": 43,
     "metadata": {},
     "output_type": "execute_result"
    }
   ],
   "source": [
    "abc = AdaBoostClassifier(learning_rate=1) # n_estimators=50,\n",
    "model = abc.fit(X_train_res, y_train_res.ravel())\n",
    "y_pred = model.predict(X_test)\n",
    "roc_auc_score(y_test, y_pred)"
   ]
  },
  {
   "cell_type": "code",
   "execution_count": null,
   "metadata": {},
   "outputs": [],
   "source": []
  },
  {
   "cell_type": "code",
   "execution_count": null,
   "metadata": {},
   "outputs": [],
   "source": []
  },
  {
   "cell_type": "code",
   "execution_count": null,
   "metadata": {},
   "outputs": [],
   "source": []
  }
 ],
 "metadata": {
  "kernelspec": {
   "display_name": "Python 3",
   "language": "python",
   "name": "python3"
  },
  "language_info": {
   "codemirror_mode": {
    "name": "ipython",
    "version": 3
   },
   "file_extension": ".py",
   "mimetype": "text/x-python",
   "name": "python",
   "nbconvert_exporter": "python",
   "pygments_lexer": "ipython3",
   "version": "3.7.4"
  }
 },
 "nbformat": 4,
 "nbformat_minor": 2
}
